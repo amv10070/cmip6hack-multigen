{
 "cells": [
  {
   "cell_type": "code",
   "execution_count": 1,
   "metadata": {},
   "outputs": [
    {
     "name": "stderr",
     "output_type": "stream",
     "text": [
      "/srv/conda/envs/notebook/lib/python3.7/site-packages/tqdm/autonotebook.py:17: TqdmExperimentalWarning: Using `tqdm.autonotebook.tqdm` in notebook mode. Use `tqdm.tqdm` instead to force console mode (e.g. in jupyter console)\n",
      "  \" (e.g. in jupyter console)\", TqdmExperimentalWarning)\n"
     ]
    }
   ],
   "source": [
    "import os\n",
    "os.environ['NUMPY_EXPERIMENTAL_ARRAY_FUNCTION'] = '0'\n",
    "\n",
    "from matplotlib import pyplot as plt\n",
    "import numpy as np\n",
    "import pandas as pd\n",
    "import xarray as xr\n",
    "import xskillscore as xs\n",
    "import xesmf as xe\n",
    "import gcsfs\n",
    "from tqdm.autonotebook import tqdm\n",
    "\n",
    "from xhistogram.xarray import histogram\n",
    "\n",
    "%matplotlib inline\n",
    "plt.rcParams['figure.figsize'] = 12, 6\n",
    "%config InlineBackend.figure_format = 'retina' "
   ]
  },
  {
   "cell_type": "code",
   "execution_count": 2,
   "metadata": {},
   "outputs": [],
   "source": [
    "# Cluster was created via the dask labextension\n",
    "# Delete this cell and replace with a new one\n",
    "\n",
    "# from dask.distributed import Client\n",
    "# from dask_kubernetes import KubeCluster\n",
    "\n",
    "# cluster = KubeCluster()\n",
    "# cluster.adapt(minimum=1, maximum=20, interval='2s')\n",
    "# client = Client(cluster)\n",
    "# client"
   ]
  },
  {
   "cell_type": "code",
   "execution_count": 3,
   "metadata": {},
   "outputs": [
    {
     "data": {
      "text/html": [
       "<div>\n",
       "<style scoped>\n",
       "    .dataframe tbody tr th:only-of-type {\n",
       "        vertical-align: middle;\n",
       "    }\n",
       "\n",
       "    .dataframe tbody tr th {\n",
       "        vertical-align: top;\n",
       "    }\n",
       "\n",
       "    .dataframe thead th {\n",
       "        text-align: right;\n",
       "    }\n",
       "</style>\n",
       "<table border=\"1\" class=\"dataframe\">\n",
       "  <thead>\n",
       "    <tr style=\"text-align: right;\">\n",
       "      <th></th>\n",
       "      <th>activity_id</th>\n",
       "      <th>institution_id</th>\n",
       "      <th>source_id</th>\n",
       "      <th>experiment_id</th>\n",
       "      <th>member_id</th>\n",
       "      <th>table_id</th>\n",
       "      <th>variable_id</th>\n",
       "      <th>grid_label</th>\n",
       "      <th>zstore</th>\n",
       "      <th>dcpp_init_year</th>\n",
       "    </tr>\n",
       "  </thead>\n",
       "  <tbody>\n",
       "    <tr>\n",
       "      <th>0</th>\n",
       "      <td>AerChemMIP</td>\n",
       "      <td>BCC</td>\n",
       "      <td>BCC-ESM1</td>\n",
       "      <td>ssp370</td>\n",
       "      <td>r1i1p1f1</td>\n",
       "      <td>Amon</td>\n",
       "      <td>pr</td>\n",
       "      <td>gn</td>\n",
       "      <td>gs://cmip6/AerChemMIP/BCC/BCC-ESM1/ssp370/r1i1...</td>\n",
       "      <td>NaN</td>\n",
       "    </tr>\n",
       "    <tr>\n",
       "      <th>1</th>\n",
       "      <td>AerChemMIP</td>\n",
       "      <td>BCC</td>\n",
       "      <td>BCC-ESM1</td>\n",
       "      <td>ssp370</td>\n",
       "      <td>r1i1p1f1</td>\n",
       "      <td>Amon</td>\n",
       "      <td>prsn</td>\n",
       "      <td>gn</td>\n",
       "      <td>gs://cmip6/AerChemMIP/BCC/BCC-ESM1/ssp370/r1i1...</td>\n",
       "      <td>NaN</td>\n",
       "    </tr>\n",
       "    <tr>\n",
       "      <th>2</th>\n",
       "      <td>AerChemMIP</td>\n",
       "      <td>BCC</td>\n",
       "      <td>BCC-ESM1</td>\n",
       "      <td>ssp370</td>\n",
       "      <td>r1i1p1f1</td>\n",
       "      <td>Amon</td>\n",
       "      <td>tas</td>\n",
       "      <td>gn</td>\n",
       "      <td>gs://cmip6/AerChemMIP/BCC/BCC-ESM1/ssp370/r1i1...</td>\n",
       "      <td>NaN</td>\n",
       "    </tr>\n",
       "    <tr>\n",
       "      <th>3</th>\n",
       "      <td>AerChemMIP</td>\n",
       "      <td>BCC</td>\n",
       "      <td>BCC-ESM1</td>\n",
       "      <td>ssp370</td>\n",
       "      <td>r1i1p1f1</td>\n",
       "      <td>Amon</td>\n",
       "      <td>tasmax</td>\n",
       "      <td>gn</td>\n",
       "      <td>gs://cmip6/AerChemMIP/BCC/BCC-ESM1/ssp370/r1i1...</td>\n",
       "      <td>NaN</td>\n",
       "    </tr>\n",
       "    <tr>\n",
       "      <th>4</th>\n",
       "      <td>AerChemMIP</td>\n",
       "      <td>BCC</td>\n",
       "      <td>BCC-ESM1</td>\n",
       "      <td>ssp370</td>\n",
       "      <td>r1i1p1f1</td>\n",
       "      <td>Amon</td>\n",
       "      <td>tasmin</td>\n",
       "      <td>gn</td>\n",
       "      <td>gs://cmip6/AerChemMIP/BCC/BCC-ESM1/ssp370/r1i1...</td>\n",
       "      <td>NaN</td>\n",
       "    </tr>\n",
       "  </tbody>\n",
       "</table>\n",
       "</div>"
      ],
      "text/plain": [
       "  activity_id institution_id source_id experiment_id member_id table_id  \\\n",
       "0  AerChemMIP            BCC  BCC-ESM1        ssp370  r1i1p1f1     Amon   \n",
       "1  AerChemMIP            BCC  BCC-ESM1        ssp370  r1i1p1f1     Amon   \n",
       "2  AerChemMIP            BCC  BCC-ESM1        ssp370  r1i1p1f1     Amon   \n",
       "3  AerChemMIP            BCC  BCC-ESM1        ssp370  r1i1p1f1     Amon   \n",
       "4  AerChemMIP            BCC  BCC-ESM1        ssp370  r1i1p1f1     Amon   \n",
       "\n",
       "  variable_id grid_label                                             zstore  \\\n",
       "0          pr         gn  gs://cmip6/AerChemMIP/BCC/BCC-ESM1/ssp370/r1i1...   \n",
       "1        prsn         gn  gs://cmip6/AerChemMIP/BCC/BCC-ESM1/ssp370/r1i1...   \n",
       "2         tas         gn  gs://cmip6/AerChemMIP/BCC/BCC-ESM1/ssp370/r1i1...   \n",
       "3      tasmax         gn  gs://cmip6/AerChemMIP/BCC/BCC-ESM1/ssp370/r1i1...   \n",
       "4      tasmin         gn  gs://cmip6/AerChemMIP/BCC/BCC-ESM1/ssp370/r1i1...   \n",
       "\n",
       "   dcpp_init_year  \n",
       "0             NaN  \n",
       "1             NaN  \n",
       "2             NaN  \n",
       "3             NaN  \n",
       "4             NaN  "
      ]
     },
     "execution_count": 3,
     "metadata": {},
     "output_type": "execute_result"
    }
   ],
   "source": [
    "df = pd.read_csv('https://storage.googleapis.com/pangeo-cmip6/pangeo-cmip6-zarr-consolidated-stores.csv')\n",
    "df.head()"
   ]
  },
  {
   "cell_type": "code",
   "execution_count": 4,
   "metadata": {},
   "outputs": [
    {
     "data": {
      "text/plain": [
       "279"
      ]
     },
     "execution_count": 4,
     "metadata": {},
     "output_type": "execute_result"
    }
   ],
   "source": [
    "var_name = 'tas'\n",
    "df_var = df[(df.table_id == 'Amon') & (df.variable_id == var_name)\n",
    "                & ((df.experiment_id == 'piControl') | (df.experiment_id == 'historical') | (df.experiment_id == '1pctCO2'))]\n",
    "len(df_var)"
   ]
  },
  {
   "cell_type": "code",
   "execution_count": 5,
   "metadata": {},
   "outputs": [
    {
     "data": {
      "text/plain": [
       "source_id        experiment_id\n",
       "BCC-CSM2-MR      1pctCO2           1\n",
       "                 historical        3\n",
       "                 piControl         1\n",
       "BCC-ESM1         1pctCO2           1\n",
       "                 historical        3\n",
       "                 piControl         1\n",
       "CAMS-CSM1-0      1pctCO2           2\n",
       "                 historical        2\n",
       "                 piControl         1\n",
       "CESM2            1pctCO2           1\n",
       "                 historical       11\n",
       "                 piControl         1\n",
       "CESM2-WACCM      1pctCO2           1\n",
       "                 historical        3\n",
       "                 piControl         1\n",
       "CNRM-CM6-1       1pctCO2           1\n",
       "                 historical       13\n",
       "                 piControl         1\n",
       "CNRM-ESM2-1      1pctCO2           4\n",
       "                 historical        5\n",
       "                 piControl         1\n",
       "CanESM5          1pctCO2           6\n",
       "                 historical       50\n",
       "                 piControl         2\n",
       "E3SM-1-0         1pctCO2           1\n",
       "                 historical        5\n",
       "                 piControl         1\n",
       "EC-Earth3        historical        2\n",
       "                 piControl         1\n",
       "EC-Earth3-Veg    1pctCO2           1\n",
       "                                  ..\n",
       "GISS-E2-1-H      piControl         1\n",
       "HadGEM3-GC31-LL  1pctCO2           4\n",
       "                 historical        4\n",
       "                 piControl         1\n",
       "HadGEM3-GC31-MM  piControl         1\n",
       "IPSL-CM6A-LR     1pctCO2           1\n",
       "                 historical       32\n",
       "                 piControl         2\n",
       "MCM-UA-1-0       1pctCO2           1\n",
       "                 historical        1\n",
       "                 piControl         1\n",
       "MIROC-ES2L       1pctCO2           1\n",
       "                 historical        3\n",
       "                 piControl         1\n",
       "MIROC6           1pctCO2           1\n",
       "                 historical       10\n",
       "                 piControl         1\n",
       "MRI-ESM2-0       1pctCO2           1\n",
       "                 historical        5\n",
       "                 piControl         1\n",
       "NESM3            1pctCO2           1\n",
       "                 historical        5\n",
       "                 piControl         1\n",
       "NorCPM1          historical        3\n",
       "SAM0-UNICON      1pctCO2           1\n",
       "                 historical        1\n",
       "                 piControl         1\n",
       "UKESM1-0-LL      1pctCO2           4\n",
       "                 historical        9\n",
       "                 piControl         1\n",
       "Name: zstore, Length: 76, dtype: int64"
      ]
     },
     "execution_count": 5,
     "metadata": {},
     "output_type": "execute_result"
    }
   ],
   "source": [
    "run_counts = df_var.groupby(['source_id', 'experiment_id'])['zstore'].count()\n",
    "run_counts"
   ]
  },
  {
   "cell_type": "code",
   "execution_count": 7,
   "metadata": {},
   "outputs": [
    {
     "data": {
      "text/plain": [
       "['BCC-CSM2-MR',\n",
       " 'BCC-ESM1',\n",
       " 'CAMS-CSM1-0',\n",
       " 'CESM2',\n",
       " 'CESM2-WACCM',\n",
       " 'CNRM-CM6-1',\n",
       " 'CNRM-ESM2-1',\n",
       " 'CanESM5',\n",
       " 'E3SM-1-0',\n",
       " 'EC-Earth3-Veg',\n",
       " 'GFDL-CM4',\n",
       " 'GFDL-ESM4',\n",
       " 'GISS-E2-1-G',\n",
       " 'GISS-E2-1-H',\n",
       " 'HadGEM3-GC31-LL',\n",
       " 'IPSL-CM6A-LR',\n",
       " 'MCM-UA-1-0',\n",
       " 'MIROC-ES2L',\n",
       " 'MIROC6',\n",
       " 'MRI-ESM2-0',\n",
       " 'NESM3',\n",
       " 'SAM0-UNICON',\n",
       " 'UKESM1-0-LL']"
      ]
     },
     "execution_count": 7,
     "metadata": {},
     "output_type": "execute_result"
    }
   ],
   "source": [
    "source_ids = []\n",
    "experiment_ids = ['historical', 'piControl', '1pctCO2']\n",
    "for name, group in df_var.groupby('source_id'):\n",
    "    if all([expt in group.experiment_id.values\n",
    "            for expt in experiment_ids]):\n",
    "        source_ids.append(name)\n",
    "source_ids"
   ]
  },
  {
   "cell_type": "code",
   "execution_count": 8,
   "metadata": {},
   "outputs": [],
   "source": [
    "def load_tas_data(source_id, expt_id):\n",
    "    \"\"\"\n",
    "    Load monthly atmospheric near-surface air temperature data for given source and expt ids\n",
    "    \"\"\"\n",
    "    uri = df_var[(df_var.source_id == source_id) &\n",
    "                         (df_var.experiment_id == expt_id)].zstore.values[0]\n",
    "    \n",
    "    gcs = gcsfs.GCSFileSystem(token='anon')\n",
    "    ds = xr.open_zarr(gcs.get_mapper(uri), consolidated=True)\n",
    "    return ds\n",
    "\n",
    "ds_out = xr.Dataset({'lat': (['lat'], np.arange(-88.5, 89.5, 2.)),\n",
    "                     'lon': (['lon'], np.arange(0.5, 360., 2.)),\n",
    "                    }\n",
    "                   )\n",
    "\n",
    "def regrid_to_common(ds, ds_out):\n",
    "    \"\"\"\n",
    "    Regrid from rectilinear grid to common grid\n",
    "    \"\"\"\n",
    "    regridder = xe.Regridder(ds, ds_out, 'bilinear',periodic=True, reuse_weights=True)\n",
    "    return regridder(ds)"
   ]
  },
  {
   "cell_type": "code",
   "execution_count": 9,
   "metadata": {},
   "outputs": [],
   "source": [
    "source_id = source_ids[0]\n",
    "ds = load_tas_data(source_id, 'historical').sel(time=slice('1980', '2019')).mean(dim='time')"
   ]
  },
  {
   "cell_type": "code",
   "execution_count": 10,
   "metadata": {},
   "outputs": [
    {
     "data": {
      "application/vnd.jupyter.widget-view+json": {
       "model_id": "f733d60dfcb2413fadb57114a18c9735",
       "version_major": 2,
       "version_minor": 0
      },
      "text/plain": [
       "HBox(children=(IntProgress(value=0, max=23), HTML(value='')))"
      ]
     },
     "metadata": {},
     "output_type": "display_data"
    },
    {
     "name": "stdout",
     "output_type": "stream",
     "text": [
      "Create weight file: bilinear_160x320_89x180_peri.nc\n",
      "Create weight file: bilinear_64x128_89x180_peri.nc\n",
      "Reuse existing file: bilinear_160x320_89x180_peri.nc\n",
      "Create weight file: bilinear_192x288_89x180_peri.nc\n",
      "Reuse existing file: bilinear_192x288_89x180_peri.nc\n",
      "Create weight file: bilinear_128x256_89x180_peri.nc\n",
      "Reuse existing file: bilinear_128x256_89x180_peri.nc\n",
      "Reuse existing file: bilinear_64x128_89x180_peri.nc\n",
      "Create weight file: bilinear_180x360_89x180_peri.nc\n",
      "Create weight file: bilinear_256x512_89x180_peri.nc\n",
      "Create weight file: bilinear_180x288_89x180_peri.nc\n",
      "Reuse existing file: bilinear_180x288_89x180_peri.nc\n",
      "Create weight file: bilinear_90x144_89x180_peri.nc\n",
      "Reuse existing file: bilinear_90x144_89x180_peri.nc\n",
      "Create weight file: bilinear_144x192_89x180_peri.nc\n",
      "Create weight file: bilinear_143x144_89x180_peri.nc\n",
      "Create weight file: bilinear_80x96_89x180_peri.nc\n",
      "Reuse existing file: bilinear_64x128_89x180_peri.nc\n",
      "Reuse existing file: bilinear_128x256_89x180_peri.nc\n",
      "Reuse existing file: bilinear_160x320_89x180_peri.nc\n",
      "Create weight file: bilinear_96x192_89x180_peri.nc\n",
      "Reuse existing file: bilinear_192x288_89x180_peri.nc\n",
      "Reuse existing file: bilinear_144x192_89x180_peri.nc\n",
      "\n"
     ]
    }
   ],
   "source": [
    "results = {}\n",
    "\n",
    "first = 1\n",
    "for source_id in tqdm(source_ids):\n",
    "    # take 1980-2019 mean\n",
    "    ds = (load_tas_data(source_id, 'historical')\n",
    "          .sel(time=slice('1980', '2019'))\n",
    "          .mean(dim='time'))\n",
    "    \n",
    "    # rename spatial dimensions if necessary\n",
    "    if ('longitude' in ds.dims) and ('latitude' in ds.dims):\n",
    "        ds = ds.rename({'longitude':'lon', 'latitude': 'lat'})\n",
    "        \n",
    "    # regrid to common 1deg by 1deg grid\n",
    "    ds_new = regrid_to_common(ds[var_name], ds_out)\n",
    "    ds_new.attrs['name'] = source_id\n",
    "    \n",
    "    # drop redundant variables (like \"height: 2m\")\n",
    "    for coord in ds_new.coords:\n",
    "        if coord not in ['lat','lon']:\n",
    "            ds_new = ds_new.drop(coord)\n",
    "    \n",
    "    # Add ensemble as new dimension\n",
    "    ds_new = ds_new.expand_dims({'ensemble': np.array([ds_new.attrs['name']])}, 0)\n",
    "    \n",
    "    # Add run to ensemble DataArray\n",
    "    if first:\n",
    "        ens = ds_new\n",
    "        first = 0\n",
    "    else:\n",
    "        ens = xr.concat([ens, ds_new], pd.Index(np.append(ens.ensemble.values, ds_new.attrs['name']), name='ensemble'))"
   ]
  },
  {
   "cell_type": "code",
   "execution_count": 11,
   "metadata": {},
   "outputs": [],
   "source": [
    "# Use multi-model mean as temporary stand-in for observations\n",
    "obs = ens.mean(dim='ensemble').compute()"
   ]
  },
  {
   "cell_type": "code",
   "execution_count": 12,
   "metadata": {},
   "outputs": [
    {
     "data": {
      "text/plain": [
       "{'regrid_method': 'bilinear',\n",
       " 'rmse': {'BCC-CSM2-MR': array(1.65575384),\n",
       "  'BCC-ESM1': array(2.20923598),\n",
       "  'CAMS-CSM1-0': array(2.03660009),\n",
       "  'CESM2': array(1.58787975),\n",
       "  'CESM2-WACCM': array(1.44785836),\n",
       "  'CNRM-CM6-1': array(1.67564631),\n",
       "  'CNRM-ESM2-1': array(1.45252437),\n",
       "  'CanESM5': array(1.99439207),\n",
       "  'E3SM-1-0': array(1.59582343),\n",
       "  'EC-Earth3-Veg': array(2.19161442),\n",
       "  'GFDL-CM4': array(1.5420321),\n",
       "  'GFDL-ESM4': array(1.31109796),\n",
       "  'GISS-E2-1-G': array(1.77539169),\n",
       "  'GISS-E2-1-H': array(1.58641873),\n",
       "  'HadGEM3-GC31-LL': array(1.352652),\n",
       "  'IPSL-CM6A-LR': array(2.16020421),\n",
       "  'MCM-UA-1-0': array(2.1572245),\n",
       "  'MIROC-ES2L': array(3.92565732),\n",
       "  'MIROC6': array(3.04092872),\n",
       "  'MRI-ESM2-0': array(1.65096503),\n",
       "  'NESM3': array(1.42512507),\n",
       "  'SAM0-UNICON': array(2.44762042),\n",
       "  'UKESM1-0-LL': array(1.80119218)},\n",
       " 'mae': {'BCC-CSM2-MR': array(1.34470804),\n",
       "  'BCC-ESM1': array(1.75486936),\n",
       "  'CAMS-CSM1-0': array(1.43192034),\n",
       "  'CESM2': array(1.22127247),\n",
       "  'CESM2-WACCM': array(1.10347882),\n",
       "  'CNRM-CM6-1': array(1.29751654),\n",
       "  'CNRM-ESM2-1': array(1.10279899),\n",
       "  'CanESM5': array(1.36349427),\n",
       "  'E3SM-1-0': array(1.16992024),\n",
       "  'EC-Earth3-Veg': array(1.5240769),\n",
       "  'GFDL-CM4': array(1.27287708),\n",
       "  'GFDL-ESM4': array(0.9166555),\n",
       "  'GISS-E2-1-G': array(1.24915628),\n",
       "  'GISS-E2-1-H': array(1.03668023),\n",
       "  'HadGEM3-GC31-LL': array(0.89823401),\n",
       "  'IPSL-CM6A-LR': array(1.52464321),\n",
       "  'MCM-UA-1-0': array(1.50975859),\n",
       "  'MIROC-ES2L': array(2.45993218),\n",
       "  'MIROC6': array(2.09989929),\n",
       "  'MRI-ESM2-0': array(1.29420983),\n",
       "  'NESM3': array(1.03486624),\n",
       "  'SAM0-UNICON': array(1.60306881),\n",
       "  'UKESM1-0-LL': array(1.23151839)}}"
      ]
     },
     "execution_count": 12,
     "metadata": {},
     "output_type": "execute_result"
    }
   ],
   "source": [
    "# Calculate skill of each model run relative to observations\n",
    "# Note: currently the multi-model mean is a temporary stand-in for observations.\n",
    "ens.attrs['rmse'] = {}\n",
    "ens.attrs['mae'] = {}\n",
    "for ensemble in ens.ensemble:\n",
    "    ds = ens.sel(ensemble=ensemble)\n",
    "    ens.attrs['rmse'][str(ensemble.values)] = xs.rmse(obs, ds, ['lat', 'lon']).values\n",
    "    ens.attrs['mae'][str(ensemble.values)] = xs.mae(obs, ds, ['lat', 'lon']).values\n",
    "ens.attrs"
   ]
  },
  {
   "cell_type": "code",
   "execution_count": 13,
   "metadata": {},
   "outputs": [
    {
     "data": {
      "text/plain": [
       "(0, 4.25)"
      ]
     },
     "execution_count": 13,
     "metadata": {},
     "output_type": "execute_result"
    },
    {
     "data": {
      "image/png": "[encoded data removed]",
      "text/plain": [
       "<Figure size 432x288 with 1 Axes>"
      ]
     },
     "metadata": {
      "image/png": {
       "height": 333,
       "width": 385
      },
      "needs_background": "light"
     },
     "output_type": "display_data"
    }
   ],
   "source": [
    "plt.plot(list(ens.attrs['rmse'].values()),'C0o')\n",
    "plt.xticks(np.arange(len(ens.attrs['rmse'].keys())),list(ens.attrs['rmse'].keys()),rotation=90)\n",
    "plt.ylabel('Root-Mean Square Error [K]')\n",
    "plt.ylim([0,4.25])"
   ]
  },
  {
   "cell_type": "code",
   "execution_count": 72,
   "metadata": {},
   "outputs": [
    {
     "data": {
      "text/plain": [
       "23"
      ]
     },
     "execution_count": 72,
     "metadata": {},
     "output_type": "execute_result"
    }
   ],
   "source": []
  },
  {
   "cell_type": "code",
   "execution_count": null,
   "metadata": {},
   "outputs": [],
   "source": []
  }
 ],
 "metadata": {
  "kernelspec": {
   "display_name": "Python 3",
   "language": "python",
   "name": "python3"
  },
  "language_info": {
   "codemirror_mode": {
    "name": "ipython",
    "version": 3
   },
   "file_extension": ".py",
   "mimetype": "text/x-python",
   "name": "python",
   "nbconvert_exporter": "python",
   "pygments_lexer": "ipython3",
   "version": "3.7.3"
  }
 },
 "nbformat": 4,
 "nbformat_minor": 4
}
